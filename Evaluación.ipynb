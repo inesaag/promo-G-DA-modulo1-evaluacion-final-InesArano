{
 "cells": [
  {
   "cell_type": "code",
   "execution_count": 23,
   "metadata": {},
   "outputs": [],
   "source": [
    "\n",
    "from random import choices\n",
    "\n",
    "import unidecode\n",
    "\n",
    "\n",
    "\n",
    "class TiendaOnline:\n",
    "\n",
    "    def __init__ (self,ventas_totales, inventario = [], clientes = {}):\n",
    "\n",
    "        self.ventas_totales = ventas_totales \n",
    "        self.inventario = inventario\n",
    "        self.clientes = clientes\n",
    "\n",
    "#Métodos:\n",
    "        \n",
    "    def agregar_producto (self, nombre, precio, cantidad):\n",
    "        self.nombre = nombre\n",
    "        self.precio = precio\n",
    "        self.cantidad = cantidad\n",
    "\n",
    "        nombre_limpio = unidecode.unidecode(nombre.lower())\n",
    "\n",
    "        for elemento in self.inventario:\n",
    "            if elemento[\"nombre\"] == nombre_limpio:\n",
    "                print (f\"{nombre} ya existe en el inventario\")\n",
    "                elemento[\"cantidad\"] = self.cantidad\n",
    "                print (f\"La cantidad actual de {nombre_limpio} es {cantidad}\")\n",
    "                break\n",
    "        else:\n",
    "            nuevo_producto = {\"nombre\" : nombre_limpio, \"precio\" : precio, \"cantidad\" : cantidad}\n",
    "            self.inventario.append(nuevo_producto)\n",
    "            print (f\"Se ha añadido {nombre_limpio} al inventario\")\n",
    "            self.inventario\n",
    "\n",
    "    def ver_inventario (self):\n",
    "        for elemento in self.inventario:\n",
    "            nombre1 = elemento.get(\"nombre\")\n",
    "            precio1 = elemento.get(\"precio\")\n",
    "            cantidad1 = elemento.get(\"cantidad\")\n",
    "            print(f\"Nombre: {nombre1}, Precio: ${precio1}, Cantidad: {cantidad1}\")\n",
    "    \n",
    "    def buscar_producto (self, nombre):\n",
    "        for elemento in self.inventario:\n",
    "            if elemento[\"nombre\"] == nombre:\n",
    "                precio1 = elemento.get(\"precio\")\n",
    "                cantidad1 = elemento.get(\"cantidad\")\n",
    "                print (f\"Nombre: {nombre}, Precio: ${precio1}, Cantidad: {cantidad1}\")\n",
    "\n",
    "    def actualizar_stock (self, nombre, cantidad):\n",
    "        for elemento in self.inventario:\n",
    "            if elemento[\"nombre\"] == nombre:\n",
    "                elemento[\"cantidad\"] = cantidad\n",
    "                print (f\"El stock actual de {nombre} es {cantidad}\")\n",
    "                break\n",
    "        else:\n",
    "            print (f\"{nombre} no existe en el inventario\")\n",
    "\n",
    "    def eliminar_producto (self, nombre):\n",
    "        for elemento in self.inventario:\n",
    "            if elemento[\"nombre\"] == nombre:\n",
    "\n",
    "                self.inventario.remove(elemento)\n",
    "                print (f\"{nombre} ha sido eliminado del inventario\")\n",
    "                break\n",
    "        else:\n",
    "            print (f\"{nombre} no está en el inventario, por lo tanto no puede ser eliminado\")\n",
    "\n",
    "    def calcular_valor_inventario (self):\n",
    "\n",
    "        valor_inventario_lista = []\n",
    "        for elemento in self.inventario:\n",
    "           valor_producto = elemento[\"precio\"] * elemento[\"cantidad\"]\n",
    "           valor_inventario_lista.append(valor_producto)\n",
    "        \n",
    "        valor_inventario = sum(valor_inventario_lista)\n",
    "        print(f\"El valor total del inventario es actualmente {valor_inventario}\")\n",
    "\n",
    "    def realizar_compra (self):\n",
    "\n",
    "        carrito = []\n",
    "        costo_compra = []\n",
    "        añadir_producto = \"si\"\n",
    "\n",
    "        while añadir_producto == \"si\":\n",
    "            print(f\"Este es el inventario actual en la tienda: {self.inventario}\")\n",
    "            producto_compra_pre =  input(\"¿Qué producto quieres comprar?\").lower()\n",
    "            producto_compra = unidecode.unidecode(producto_compra_pre)\n",
    "\n",
    "            for elemento in self.inventario:\n",
    "                if producto_compra == elemento[\"nombre\"]:\n",
    "                    producto_nuevo = {\"nombre\" :producto_compra, \"precio\": elemento[\"precio\"]}\n",
    "                    carrito.append(producto_nuevo)\n",
    "                    print (f\"Este es tu carro de la compra {carrito}\")\n",
    "                    elemento[\"cantidad\"] = elemento[\"cantidad\"] - 1                \n",
    "                    añadir_producto_pre = input(\"¿Quieres hacer otra compra? Responde si o no\").lower()\n",
    "                    añadir_producto = unidecode.unidecode (añadir_producto_pre)\n",
    "                    \n",
    "        for producto in carrito:\n",
    "            costo_compra.append(producto[\"precio\"])\n",
    "            costo = sum(costo_compra)\n",
    "        print(f\"El costo total de la compra es ${costo}\")\n",
    "      \n"
   ]
  },
  {
   "cell_type": "code",
   "execution_count": 26,
   "metadata": {},
   "outputs": [],
   "source": [
    "#Crearé una instacia con el nombre nombre_tienda y unos valores existentes para poder probar los métodos creados.\n",
    "\n",
    "inventario_inicial = [{'nombre': 'camisa', 'precio': 20, 'cantidad': 40},\n",
    "{'nombre': 'pantalon', 'precio': 30, 'cantidad': 30}]\n",
    "\n",
    "clientes_inicial = {'Cliente1': {'email': 'cliente1@email.com', 'compras': []},\n",
    "'Cliente2': {'email': 'cliente2@email.com', 'compras': []}}\n",
    "\n",
    "nombre_tienda = TiendaOnline (20, inventario_inicial, clientes_inicial)"
   ]
  },
  {
   "cell_type": "markdown",
   "metadata": {},
   "source": [
    "Pruebas"
   ]
  },
  {
   "cell_type": "code",
   "execution_count": 34,
   "metadata": {},
   "outputs": [
    {
     "data": {
      "text/plain": [
       "[{'nombre': 'camisa', 'precio': 20, 'cantidad': 46},\n",
       " {'nombre': 'pantalon', 'precio': 30, 'cantidad': 29},\n",
       " {'nombre': 'falda', 'precio': 20, 'cantidad': 48}]"
      ]
     },
     "execution_count": 34,
     "metadata": {},
     "output_type": "execute_result"
    }
   ],
   "source": [
    "nombre_tienda.inventario"
   ]
  },
  {
   "cell_type": "code",
   "execution_count": 30,
   "metadata": {},
   "outputs": [
    {
     "name": "stdout",
     "output_type": "stream",
     "text": [
      "Camisa ya existe en el inventario\n",
      "La cantidad actual de camisa es 48\n"
     ]
    }
   ],
   "source": [
    "nombre_tienda.agregar_producto(\"Camisa\", 20, 48)"
   ]
  },
  {
   "cell_type": "code",
   "execution_count": 137,
   "metadata": {},
   "outputs": [
    {
     "name": "stdout",
     "output_type": "stream",
     "text": [
      "Nombre: Camisa, Precio: $20, Cantidad: 40\n",
      "Nombre: Pantalón, Precio: $30, Cantidad: 30\n"
     ]
    }
   ],
   "source": [
    "nombre_tienda.ver_inventario()"
   ]
  },
  {
   "cell_type": "code",
   "execution_count": 104,
   "metadata": {},
   "outputs": [
    {
     "name": "stdout",
     "output_type": "stream",
     "text": [
      "Nombre: Camisa, Precio: $20, Cantidad: 48\n"
     ]
    }
   ],
   "source": [
    "nombre_tienda.buscar_producto(\"Camisa\")"
   ]
  },
  {
   "cell_type": "code",
   "execution_count": 105,
   "metadata": {},
   "outputs": [
    {
     "name": "stdout",
     "output_type": "stream",
     "text": [
      "El stock actual de Camisa es 20\n"
     ]
    }
   ],
   "source": [
    "nombre_tienda.actualizar_stock (\"Camisa\", 20)"
   ]
  },
  {
   "cell_type": "code",
   "execution_count": 97,
   "metadata": {},
   "outputs": [
    {
     "name": "stdout",
     "output_type": "stream",
     "text": [
      "Camisa ha sido eliminado del inventario\n"
     ]
    }
   ],
   "source": [
    "nombre_tienda.eliminar_producto(\"Camisa\")"
   ]
  },
  {
   "cell_type": "code",
   "execution_count": 127,
   "metadata": {},
   "outputs": [
    {
     "name": "stdout",
     "output_type": "stream",
     "text": [
      "El valor total del inventario es actualmente 1700\n"
     ]
    }
   ],
   "source": [
    "nombre_tienda.calcular_valor_inventario()"
   ]
  },
  {
   "cell_type": "code",
   "execution_count": 33,
   "metadata": {},
   "outputs": [
    {
     "name": "stdout",
     "output_type": "stream",
     "text": [
      "Este es el inventario actual en la tienda: [{'nombre': 'camisa', 'precio': 20, 'cantidad': 47}, {'nombre': 'pantalon', 'precio': 30, 'cantidad': 30}, {'nombre': 'falda', 'precio': 20, 'cantidad': 48}]\n",
      "Este es tu carro de la compra [{'nombre': 'camisa', 'precio': 20}]\n",
      "Este es el inventario actual en la tienda: [{'nombre': 'camisa', 'precio': 20, 'cantidad': 46}, {'nombre': 'pantalon', 'precio': 30, 'cantidad': 30}, {'nombre': 'falda', 'precio': 20, 'cantidad': 48}]\n",
      "Este es tu carro de la compra [{'nombre': 'camisa', 'precio': 20}, {'nombre': 'pantalon', 'precio': 30}]\n",
      "el costo total de la compra es $50\n"
     ]
    }
   ],
   "source": [
    "nombre_tienda.realizar_compra()"
   ]
  }
 ],
 "metadata": {
  "kernelspec": {
   "display_name": "base",
   "language": "python",
   "name": "python3"
  },
  "language_info": {
   "codemirror_mode": {
    "name": "ipython",
    "version": 3
   },
   "file_extension": ".py",
   "mimetype": "text/x-python",
   "name": "python",
   "nbconvert_exporter": "python",
   "pygments_lexer": "ipython3",
   "version": "3.11.5"
  }
 },
 "nbformat": 4,
 "nbformat_minor": 2
}
