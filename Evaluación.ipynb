{
 "cells": [
  {
   "cell_type": "code",
   "execution_count": 1,
   "metadata": {},
   "outputs": [],
   "source": [
    "# Quiero que los nombres de los elementos estén siempre en minúscula y sin tildes para que todo sea uniforme, por lo que importo el módulo unidecode para las tildes. Las minúsculas las saco con .lower()\n",
    "\n",
    "import unidecode\n",
    "\n",
    "\n",
    "#creo la clase TiendaOnline y sus atributos\n",
    "\n",
    "class TiendaOnline:\n",
    "\n",
    "    def __init__ (self,ventas_totales, inventario = [], clientes = {}):  #añado en los atributos los valores que, según el enunciado, deben ser listas o diccionarios vacios\n",
    "\n",
    "        self.ventas_totales = ventas_totales \n",
    "        self.inventario = inventario\n",
    "        self.clientes = clientes\n",
    "\n",
    "#Métodos:\n",
    "        \n",
    "    def agregar_producto (self, nombre, precio, cantidad):\n",
    "        self.nombre = nombre\n",
    "        self.precio = precio\n",
    "        self.cantidad = cantidad\n",
    "\n",
    "        nombre_limpio = unidecode.unidecode(nombre.lower()) #le quitamos tildes y mayusculas al nombre para que el inventario sea uniforme y no nos de error en futuras funciones\n",
    "\n",
    "        for elemento in self.inventario:\n",
    "            if elemento[\"nombre\"] == nombre_limpio: #si el elemento existe en el inventario se hace saber y se actualiza la cantidad\n",
    "                print (f\"{nombre} ya existe en el inventario\")\n",
    "                elemento[\"cantidad\"] = self.cantidad\n",
    "                print (f\"La cantidad actual de {nombre_limpio} es {cantidad}\")\n",
    "                break\n",
    "        else:\n",
    "            nuevo_producto = {\"nombre\" : nombre_limpio, \"precio\" : precio, \"cantidad\" : cantidad} #si el producto no está en el inventario se añade creando un nuevo diccionario y un append\n",
    "            self.inventario.append(nuevo_producto)\n",
    "            print (f\"Se ha añadido {nombre_limpio} al inventario\")\n",
    "            self.inventario\n",
    "\n",
    "    def ver_inventario (self):\n",
    "        for elemento in self.inventario: #saco cada uno de los elementos que quiero mostrar para utilizarlos en un print con el formato que quiero\n",
    "            nombre1 = elemento.get(\"nombre\")\n",
    "            precio1 = elemento.get(\"precio\")\n",
    "            cantidad1 = elemento.get(\"cantidad\")\n",
    "            print(f\"Nombre: {nombre1}, Precio: ${precio1}, Cantidad: {cantidad1}\")\n",
    "    \n",
    "    def buscar_producto (self, nombre):\n",
    "        self.nombre = nombre\n",
    "        \n",
    "        for elemento in self.inventario: #itero por en inventario buscando el producto solicitado y saco los datos quiero mostrar para imprimirlos\n",
    "            if elemento[\"nombre\"] == nombre:\n",
    "                precio1 = elemento.get(\"precio\")\n",
    "                cantidad1 = elemento.get(\"cantidad\")\n",
    "                print (f\"Nombre: {nombre}, Precio: ${precio1}, Cantidad: {cantidad1}\")\n",
    "                break #si entro en el bucle(he encontrado una coincidencia) lo paro todo para que no muestre el mensaje del else\n",
    "        else: \n",
    "            print(f\"{nombre} no está en el inventario\") #si no encuentro el producto se lo hago saber\n",
    "\n",
    "    def actualizar_stock (self, nombre, cantidad):\n",
    "        self.nombre = nombre\n",
    "        self.cantidad = cantidad\n",
    "\n",
    "        for elemento in self.inventario:\n",
    "            if elemento[\"nombre\"] == nombre:\n",
    "                elemento[\"cantidad\"] = cantidad #actualizo el valor de la cantidad con la cantidad recien añadida\n",
    "                print (f\"El stock actual de {nombre} es {cantidad}\")\n",
    "                break\n",
    "        else:\n",
    "            print (f\"{nombre} no existe en el inventario\") #si el producto no eciste se lo hago saber\n",
    "\n",
    "    def eliminar_producto (self, nombre):\n",
    "        self.nombre = nombre\n",
    "        for elemento in self.inventario:\n",
    "            if elemento[\"nombre\"] == nombre:\n",
    "                self.inventario.remove(elemento) #elimino el elemento si encuentro alguna coincidencia\n",
    "                print (f\"{nombre} ha sido eliminado del inventario\")\n",
    "                break\n",
    "        else:\n",
    "            print (f\"{nombre} no está en el inventario, por lo tanto no puede ser eliminado\")\n",
    "\n",
    "    def calcular_valor_inventario (self):\n",
    "\n",
    "        valor_inventario_lista = [] #creo una lista a la que sumaré el valor de cada producto\n",
    "        for elemento in self.inventario: #itero por cada uno de los productos \n",
    "           valor_producto = elemento[\"precio\"] * elemento[\"cantidad\"] #saco el valor de cada producto según el precio y el stock\n",
    "           valor_inventario_lista.append(valor_producto) #añado ese valor a la lista creada\n",
    "        \n",
    "        valor_inventario = sum(valor_inventario_lista) #sumo todos los elementos de la lista\n",
    "        print(f\"El valor total del inventario es actualmente {valor_inventario}\")\n",
    "\n",
    "    def realizar_compra (self):\n",
    "\n",
    "        #creo las listas y variables necesarioas para el método\n",
    "        carrito = []\n",
    "        costo_compra = []\n",
    "        añadir_producto = \"si\" \n",
    "\n",
    "        #el bucle solo funciona si el cliente quiere hacer una compra, la primera vez el valor predeterminado es siempre \"sí\" y cada vez que compre algo se le preguntará si quiere hacer otra compra o no\n",
    "\n",
    "        while añadir_producto == \"si\": \n",
    "\n",
    "            print(f\"Este es el inventario actual en la tienda: {self.inventario}\") \n",
    "            producto_compra_pre =  input(\"¿Qué producto quieres comprar?\").lower()\n",
    "            producto_compra = unidecode.unidecode(producto_compra_pre) #los textos que escribe el usuario se ponen en minúscula y se le quitan las tildes para evitar errores\n",
    "\n",
    "            for elemento in self.inventario: #buscamos el producto en nuestro inventario\n",
    "                if producto_compra == elemento[\"nombre\"]: #si el producto esta en el inventario \"lo compramos\"\n",
    "                    producto_nuevo = {\"nombre\" :producto_compra, \"precio\": elemento[\"precio\"]} #creamos un diccionario con los datos que queremos meter en el carrito\n",
    "                    carrito.append(producto_nuevo)\n",
    "                    print (f\"Este es tu carro de la compra {carrito}\") #le mostramos al usuario el carrito\n",
    "                    elemento[\"cantidad\"] = elemento[\"cantidad\"] - 1  #actualizamos el stock (aquí podría añadirse facilmente una pregunta al usuario con otro imput y permitirle elegir la cantidad de productos, luego esa cantidad se le quitaría al stock. No se ha llevado a cabo porque el ejercicio no lo menciona)\n",
    "                    print(\"\\n-------------\\n\")         \n",
    "                    añadir_producto_pre = input(\"¿Quieres hacer otra compra? Responde si o no\").lower() \n",
    "                    añadir_producto = unidecode.unidecode (añadir_producto_pre) #preguntamos al usuario si quiere hacer más compras y actualizamos el valor que condiciona al while para poder salir del bucle\n",
    "\n",
    "\n",
    "        for producto in carrito: #sumamos todos los precios de los productos comprados añadiendolos a una lista y se los mostramos al usuario\n",
    "            costo_compra.append(producto[\"precio\"])\n",
    "            costo = sum(costo_compra)\n",
    "            \n",
    "        print(f\"El costo total de la compra es ${costo}\")\n",
    "      \n",
    "    def procesar_pago (self):\n",
    "        cantidad_total = float(input (\"Ingresa la cantidad a pagar\")) #lo que vale la compra\n",
    "        cantidad_pago = float(input (\"Ingresa la cantidad de pago\")) #lo que le das a la persona que te cobra\n",
    "\n",
    "        try:\n",
    "            devolucion = cantidad_pago-cantidad_total\n",
    "\n",
    "            if devolucion >= 0: #si el dinero llega para hacer el pago\n",
    "                print(f\"Pago exitoso, la cantidad a devolver es ${devolucion}\") #mensaje de exito y le digo cuanto le devuelvo\n",
    "\n",
    "            elif devolucion < 0: #si el valor a pagar es mayor que la cantidad de pago (no le llega)\n",
    "                deuda = devolucion *-1 #paso el negativo a positivo para mostrarle cuanto le falta\n",
    "                print(f\"Monto insuficiente, te falta ${deuda} para poder realizar la compra\")\n",
    "\n",
    "        except TypeError:   #He añadido en except mensajes según el tipo de error (he elegido los errores posibles para este caso)\n",
    "            print(f\"Al menos uno de los valores ingresados no es un valor correcto\")\n",
    "        except KeyboardInterrupt:\n",
    "            print(f\"Se ha detenido la función\")\n",
    "\n",
    "    def agregar_cliente (self, nombre, email):\n",
    "        self.nombre = nombre\n",
    "        self.email = email \n",
    "\n",
    "        self.clientes.update({self.nombre: {'email': self.email, 'compras': []}}) #con un update añado los nuevos datos al diccionario de clientes (añado también la lista vacía de compras para futuras compras)\n",
    "\n",
    "    def ver_clientes (self):\n",
    "        for elemento in self.clientes: #itero por cada elemento del diccionario de clientes\n",
    "            correo = self.clientes[elemento][\"email\"] #\"saco\" el valor de email que es, a su vez, el valor de \"elemento\"\n",
    "            print(f\"Nombre: {elemento}, Correo electrónico : {correo}\") #muestro cada elemento con los datos solicitados en el enunciado\n",
    "\n",
    "    def registrar_compra (self, nombre_cliente, carrito = {}):\n",
    "        self.nombre_cliente = nombre_cliente\n",
    "        self.carrito = carrito\n",
    "            \n",
    "        for elemento in self.clientes:\n",
    "            if elemento == nombre_cliente:\n",
    "                self.clientes[elemento][\"compras\"] + self.carrito\n",
    "\n",
    "                break\n",
    "        else:\n",
    "            print(f\"{nombre_cliente} no está en la lista de clientes\")\n",
    "            #self.clientes[elemento][\"compras\"]\n",
    "            \n",
    "\n",
    "\n",
    "\n",
    "#carrito_cliente1 = {\"Camisa\": {\"precio\": 20, \"cantidad\": 3}}\n",
    "#tienda.registrar_compra(\"Cliente1\", carrito_cliente1)\n"
   ]
  },
  {
   "cell_type": "code",
   "execution_count": 2,
   "metadata": {},
   "outputs": [],
   "source": [
    "#Instancio un objeto (nombre_tienda) y unos valores existentes para poder probar los métodos creados.\n",
    "\n",
    "inventario_inicial = [{'nombre': 'camisa', 'precio': 20, 'cantidad': 40},\n",
    "{'nombre': 'pantalon', 'precio': 30, 'cantidad': 30}]\n",
    "\n",
    "clientes_inicial = {'cliente1': {'email': 'cliente1@email.com', 'compras': []},\n",
    "'cliente2': {'email': 'cliente2@email.com', 'compras': []}}\n",
    "\n",
    "nombre_tienda = TiendaOnline (20, inventario_inicial, clientes_inicial)"
   ]
  },
  {
   "cell_type": "code",
   "execution_count": 4,
   "metadata": {},
   "outputs": [
    {
     "name": "stdout",
     "output_type": "stream",
     "text": [
      "maria no está en la lista de clientes\n",
      "maria no está en la lista de clientes\n",
      "sí está\n"
     ]
    }
   ],
   "source": [
    "nombre_tienda.registrar_compra(\"maria\",{\"Camisa\": {\"precio\": 20, \"cantidad\": 3}})"
   ]
  },
  {
   "cell_type": "markdown",
   "metadata": {},
   "source": [
    "Pruebas"
   ]
  },
  {
   "cell_type": "code",
   "execution_count": 5,
   "metadata": {},
   "outputs": [
    {
     "data": {
      "text/plain": [
       "{'cliente1': {'email': 'cliente1@email.com', 'compras': []},\n",
       " 'cliente2': {'email': 'cliente2@email.com', 'compras': []},\n",
       " 'maria': {'email': 'maria34@gmail.com', 'compras': []}}"
      ]
     },
     "execution_count": 5,
     "metadata": {},
     "output_type": "execute_result"
    }
   ],
   "source": [
    "nombre_tienda.clientes"
   ]
  },
  {
   "cell_type": "code",
   "execution_count": 34,
   "metadata": {},
   "outputs": [
    {
     "data": {
      "text/plain": [
       "[{'nombre': 'camisa', 'precio': 20, 'cantidad': 46},\n",
       " {'nombre': 'pantalon', 'precio': 30, 'cantidad': 29},\n",
       " {'nombre': 'falda', 'precio': 20, 'cantidad': 48}]"
      ]
     },
     "execution_count": 34,
     "metadata": {},
     "output_type": "execute_result"
    }
   ],
   "source": [
    "nombre_tienda.inventario"
   ]
  },
  {
   "cell_type": "code",
   "execution_count": 30,
   "metadata": {},
   "outputs": [
    {
     "name": "stdout",
     "output_type": "stream",
     "text": [
      "Camisa ya existe en el inventario\n",
      "La cantidad actual de camisa es 48\n"
     ]
    }
   ],
   "source": [
    "nombre_tienda.agregar_producto(\"camisa\", 20, 48)"
   ]
  },
  {
   "cell_type": "code",
   "execution_count": 137,
   "metadata": {},
   "outputs": [
    {
     "name": "stdout",
     "output_type": "stream",
     "text": [
      "Nombre: Camisa, Precio: $20, Cantidad: 40\n",
      "Nombre: Pantalón, Precio: $30, Cantidad: 30\n"
     ]
    }
   ],
   "source": [
    "nombre_tienda.ver_inventario()"
   ]
  },
  {
   "cell_type": "code",
   "execution_count": 26,
   "metadata": {},
   "outputs": [
    {
     "name": "stdout",
     "output_type": "stream",
     "text": [
      "Nombre: camisa, Precio: $20, Cantidad: 40\n"
     ]
    }
   ],
   "source": [
    "nombre_tienda.buscar_producto(\"camisa\")"
   ]
  },
  {
   "cell_type": "code",
   "execution_count": 28,
   "metadata": {},
   "outputs": [
    {
     "name": "stdout",
     "output_type": "stream",
     "text": [
      "El stock actual de camisa es 20\n"
     ]
    }
   ],
   "source": [
    "nombre_tienda.actualizar_stock (\"camisa\", 20)"
   ]
  },
  {
   "cell_type": "code",
   "execution_count": 30,
   "metadata": {},
   "outputs": [
    {
     "name": "stdout",
     "output_type": "stream",
     "text": [
      "camisa ha sido eliminado del inventario\n"
     ]
    }
   ],
   "source": [
    "nombre_tienda.eliminar_producto(\"camisa\")"
   ]
  },
  {
   "cell_type": "code",
   "execution_count": 127,
   "metadata": {},
   "outputs": [
    {
     "name": "stdout",
     "output_type": "stream",
     "text": [
      "El valor total del inventario es actualmente 1700\n"
     ]
    }
   ],
   "source": [
    "nombre_tienda.calcular_valor_inventario()"
   ]
  },
  {
   "cell_type": "code",
   "execution_count": 11,
   "metadata": {},
   "outputs": [
    {
     "name": "stdout",
     "output_type": "stream",
     "text": [
      "Este es el inventario actual en la tienda: [{'nombre': 'camisa', 'precio': 20, 'cantidad': 40}, {'nombre': 'pantalon', 'precio': 30, 'cantidad': 30}]\n",
      "Este es tu carro de la compra [{'nombre': 'pantalon', 'precio': 30}]\n",
      "\n",
      "-------------\n",
      "\n",
      "Este es el inventario actual en la tienda: [{'nombre': 'camisa', 'precio': 20, 'cantidad': 40}, {'nombre': 'pantalon', 'precio': 30, 'cantidad': 29}]\n",
      "Este es tu carro de la compra [{'nombre': 'pantalon', 'precio': 30}, {'nombre': 'camisa', 'precio': 20}]\n",
      "\n",
      "-------------\n",
      "\n",
      "El costo total de la compra es $50\n"
     ]
    }
   ],
   "source": [
    "nombre_tienda.realizar_compra()"
   ]
  },
  {
   "cell_type": "code",
   "execution_count": 10,
   "metadata": {},
   "outputs": [
    {
     "name": "stdout",
     "output_type": "stream",
     "text": [
      "-10.0\n",
      "Monto insuficiente, te falta $10.0 para poder realizar la compra\n"
     ]
    }
   ],
   "source": [
    "nombre_tienda.procesar_pago()"
   ]
  },
  {
   "cell_type": "code",
   "execution_count": 3,
   "metadata": {},
   "outputs": [],
   "source": [
    "nombre_tienda.agregar_cliente(\"maria\", \"maria34@gmail.com\")"
   ]
  },
  {
   "cell_type": "code",
   "execution_count": 38,
   "metadata": {},
   "outputs": [
    {
     "name": "stdout",
     "output_type": "stream",
     "text": [
      "Nombre: cliente1, Correo electrónico : cliente1@email.com\n",
      "Nombre: cliente2, Correo electrónico : cliente2@email.com\n",
      "Nombre: maria, Correo electrónico : maria34@gmail.com\n"
     ]
    }
   ],
   "source": [
    "nombre_tienda.ver_clientes()"
   ]
  }
 ],
 "metadata": {
  "kernelspec": {
   "display_name": "base",
   "language": "python",
   "name": "python3"
  },
  "language_info": {
   "codemirror_mode": {
    "name": "ipython",
    "version": 3
   },
   "file_extension": ".py",
   "mimetype": "text/x-python",
   "name": "python",
   "nbconvert_exporter": "python",
   "pygments_lexer": "ipython3",
   "version": "3.11.5"
  }
 },
 "nbformat": 4,
 "nbformat_minor": 2
}
